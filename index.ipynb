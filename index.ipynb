{
 "cells": [
  {
   "cell_type": "markdown",
   "metadata": {},
   "source": [
    "# APIs - Cumulative Lab\n",
    "\n",
    "\n",
    "## Introduction \n",
    "\n",
    "We've seen how the Yelp API works and how to create basic visualizations using Folium. It's time to put those skills to work in order to create a working map! Taking things a step further, you'll also independently explore how to perform pagination in order to retrieve a full results set from the Yelp API.\n",
    "\n",
    "## Objectives\n",
    "\n",
    "You will be able to: \n",
    "\n",
    "* Practice using functions to organize your code\n",
    "* Use pagination to retrieve all results from an API query\n",
    "* Practice parsing data returned from an API query\n",
    "* Practice interpreting visualizations of a dataset\n",
    "* Create maps using Folium"
   ]
  },
  {
   "cell_type": "markdown",
   "metadata": {},
   "source": [
    "## Your Task: Query Yelp for All Businesses in a Category and Analyze the Results\n",
    "\n",
    "![restaurant counter with pizza](images/restaurant_counter.jpg)\n",
    "\n",
    "Photo by <a href=\"https://unsplash.com/@jordanmadrid?utm_source=unsplash&utm_medium=referral&utm_content=creditCopyText\">Jordan Madrid</a> on <a href=\"/s/photos/pizza-restaurant?utm_source=unsplash&utm_medium=referral&utm_content=creditCopyText\">Unsplash</a>"
   ]
  },
  {
   "cell_type": "markdown",
   "metadata": {},
   "source": [
    "### Overview\n",
    "\n",
    "You've now worked with some API calls, but we have yet to see how to retrieve a more complete dataset in a programmatic manner. In this lab, you will write a query of businesses on Yelp, then use *pagination* to retrieve all possible results for that query. Then you will create a summary of your findings, including a Folium map of the geographic locations of those businesses.\n",
    "\n",
    "### Technical Details\n",
    "\n",
    "Returning to the Yelp API, the [documentation](https://www.yelp.com/developers/documentation/v3/business_search) also provides us details regarding the **API limits**. These often include details about the number of requests a user is allowed to make within a specified time limit and the maximum number of results to be returned. In this case, we are told that any request has a **maximum of 50 results per request** and defaults to 20. Furthermore, any search will be limited to a **total of 1000 results**. To retrieve all 1000 of these results, we would have to page through the results piece by piece, retrieving 50 at a time. Processes such as these are often referred to as pagination.\n",
    "\n",
    "Also, be mindful of the **API** ***rate*** **limits**. You can only make **5000 requests per day** and are also can make requests too fast. Start prototyping small before running a loop that could be faulty. You can also use `time.sleep(n)` to add delays. For more details see https://www.yelp.com/developers/documentation/v3/rate_limiting.\n",
    "\n",
    "In this lab, you will define a search and then paginate over the results to retrieve all of the results. You'll then parse these responses as a list of dictionaries (for further exploration) and create a map using Folium to visualize the results geographically.\n",
    "\n",
    "### Requirements\n",
    "\n",
    "#### 1. Make the Initial Request\n",
    "\n",
    "Start by filling in your API key to make the initial request to the business search API. Investigate the structure of the response you get back and start figuring out how you will extract the relevant information.\n",
    "\n",
    "#### 2. Add Pagination\n",
    "\n",
    "Using loops and functions, collect the maximum number of results for your query from the API.\n",
    "\n",
    "#### 3. Perform Exploratory Analysis\n",
    "\n",
    "Interpret visualizations related to the price range, average rating, and number of reviews for all query results.\n",
    "\n",
    "#### 4. Create a Folium Map\n",
    "\n",
    "Using latitude and longitude data, plot the query results on an interactive map."
   ]
  },
  {
   "cell_type": "markdown",
   "metadata": {},
   "source": [
    "## 1. Make the Initial Request\n",
    "\n",
    "### Querying\n",
    "\n",
    "Start by making an initial request to the Yelp API. Your search must include at least 2 parameters: **term** and **location**. For example, you might search for pizza restaurants in NYC. The term and location is up to you but make the request below.\n",
    "\n",
    "Use the `requests` library ([documentation here](https://requests.readthedocs.io/en/master/user/quickstart/#make-a-request)).\n",
    "\n",
    "You'll also need an API key from Yelp. If you haven't done this already, go to the Yelp [Manage App page](https://www.yelp.com/developers/v3/manage_app) and create a new app (after making an account if you haven't already)."
   ]
  },
  {
   "cell_type": "code",
   "execution_count": 2,
   "metadata": {
    "ExecuteTime": {
     "end_time": "2021-11-29T23:37:47.912425Z",
     "start_time": "2021-11-29T23:37:46.727205Z"
    }
   },
   "outputs": [
    {
     "data": {
      "text/plain": [
       "<Response [200]>"
      ]
     },
     "execution_count": 2,
     "metadata": {},
     "output_type": "execute_result"
    }
   ],
   "source": [
    "# Replace None with appropriate code\n",
    "\n",
    "# Import the requests library\n",
    "import requests\n",
    "\n",
    "# Get this from the \"Manage App\" page. Make sure you set them\n",
    "# back to None before pushing this to GitHub, since otherwise\n",
    "# your credentials will be compromised\n",
    "api_key = REDACTED\n",
    "\n",
    "# These can be whatever you want! But the solution uses \"pizza\"\n",
    "# and \"New York NY\" if you want to compare your work directly\n",
    "term = \"pizza\"\n",
    "location = \"New York NY\"\n",
    "\n",
    "# Set up params for request\n",
    "url = \"https://api.yelp.com/v3/businesses/search\"\n",
    "headers = {\n",
    "    \"Authorization\": \"Bearer {}\".format(api_key)\n",
    "}\n",
    "url_params = {\n",
    "    \"term\": term.replace(\" \", \"+\"),\n",
    "    \"location\": location.replace(\" \", \"+\")\n",
    "}\n",
    "\n",
    "# Make the request using requests.get, passing in\n",
    "# url, headers=headers, and params=url_params\n",
    "response = requests.get(url, headers=headers, params=url_params)\n",
    "\n",
    "# Confirm we got a 200 response\n",
    "response"
   ]
  },
  {
   "cell_type": "code",
   "execution_count": 3,
   "metadata": {
    "ExecuteTime": {
     "end_time": "2021-11-29T23:37:55.426351Z",
     "start_time": "2021-11-29T23:37:55.421205Z"
    }
   },
   "outputs": [
    {
     "data": {
      "text/plain": [
       "dict_keys(['businesses', 'total', 'region'])"
      ]
     },
     "execution_count": 3,
     "metadata": {},
     "output_type": "execute_result"
    }
   ],
   "source": [
    "# Run this cell without changes\n",
    "\n",
    "# Get the response body in JSON format\n",
    "response_json = response.json()\n",
    "# View the keys\n",
    "response_json.keys()"
   ]
  },
  {
   "cell_type": "markdown",
   "metadata": {},
   "source": [
    "### Extracting Data\n",
    "\n",
    "Now, retrieve the value associated with the `'businesses'` key, and inspect its contents."
   ]
  },
  {
   "cell_type": "code",
   "execution_count": 4,
   "metadata": {
    "ExecuteTime": {
     "end_time": "2021-11-29T23:38:21.934079Z",
     "start_time": "2021-11-29T23:38:21.922742Z"
    }
   },
   "outputs": [
    {
     "data": {
      "text/plain": [
       "[{'id': 'zj8Lq1T8KIC5zwFief15jg',\n",
       "  'alias': 'prince-street-pizza-new-york-2',\n",
       "  'name': 'Prince Street Pizza',\n",
       "  'image_url': 'https://s3-media3.fl.yelpcdn.com/bphoto/ZAukOyv530w4KjOHC5YY1w/o.jpg',\n",
       "  'is_closed': False,\n",
       "  'url': 'https://www.yelp.com/biz/prince-street-pizza-new-york-2?adjust_creative=K-ePtBiKLkrNUCkKQ5e_5Q&utm_campaign=yelp_api_v3&utm_medium=api_v3_business_search&utm_source=K-ePtBiKLkrNUCkKQ5e_5Q',\n",
       "  'review_count': 4070,\n",
       "  'categories': [{'alias': 'pizza', 'title': 'Pizza'},\n",
       "   {'alias': 'italian', 'title': 'Italian'}],\n",
       "  'rating': 4.5,\n",
       "  'coordinates': {'latitude': 40.72308755605564,\n",
       "   'longitude': -73.99453001177575},\n",
       "  'transactions': ['pickup', 'delivery'],\n",
       "  'price': '$',\n",
       "  'location': {'address1': '27 Prince St',\n",
       "   'address2': None,\n",
       "   'address3': '',\n",
       "   'city': 'New York',\n",
       "   'zip_code': '10012',\n",
       "   'country': 'US',\n",
       "   'state': 'NY',\n",
       "   'display_address': ['27 Prince St', 'New York, NY 10012']},\n",
       "  'phone': '+12129664100',\n",
       "  'display_phone': '(212) 966-4100',\n",
       "  'distance': 1961.8771417367063},\n",
       " {'id': 'WG639VkTjmK5dzydd1BBJA',\n",
       "  'alias': 'rubirosa-new-york-2',\n",
       "  'name': 'Rubirosa',\n",
       "  'image_url': 'https://s3-media4.fl.yelpcdn.com/bphoto/LuSzR8cpVQRofXOT_bMi1A/o.jpg',\n",
       "  'is_closed': False,\n",
       "  'url': 'https://www.yelp.com/biz/rubirosa-new-york-2?adjust_creative=K-ePtBiKLkrNUCkKQ5e_5Q&utm_campaign=yelp_api_v3&utm_medium=api_v3_business_search&utm_source=K-ePtBiKLkrNUCkKQ5e_5Q',\n",
       "  'review_count': 2500,\n",
       "  'categories': [{'alias': 'italian', 'title': 'Italian'},\n",
       "   {'alias': 'pizza', 'title': 'Pizza'}],\n",
       "  'rating': 4.5,\n",
       "  'coordinates': {'latitude': 40.722766, 'longitude': -73.996233},\n",
       "  'transactions': ['pickup', 'delivery'],\n",
       "  'price': '$$',\n",
       "  'location': {'address1': '235 Mulberry St',\n",
       "   'address2': '',\n",
       "   'address3': '',\n",
       "   'city': 'New York',\n",
       "   'zip_code': '10012',\n",
       "   'country': 'US',\n",
       "   'state': 'NY',\n",
       "   'display_address': ['235 Mulberry St', 'New York, NY 10012']},\n",
       "  'phone': '+12129650500',\n",
       "  'display_phone': '(212) 965-0500',\n",
       "  'distance': 1932.9467701334759}]"
      ]
     },
     "execution_count": 4,
     "metadata": {},
     "output_type": "execute_result"
    }
   ],
   "source": [
    "# Replace None with appropriate code\n",
    "\n",
    "# Retrieve the value from response_json\n",
    "businesses = response_json['businesses']\n",
    "\n",
    "# View the first 2 records\n",
    "businesses[:2]"
   ]
  },
  {
   "cell_type": "markdown",
   "metadata": {},
   "source": [
    "### Preparing Data\n",
    "\n",
    "Write a function `prepare_data` that takes in a list of dictionaries like `businesses` and returns a copy that has been prepared for analysis:\n",
    "\n",
    "1. The `coordinates` key-value pair has been converted into two separate key-value pairs, `latitude` and `longitude`\n",
    "2. All other key-value pairs except for `name`, `review_count`, `rating`, and `price` have been dropped\n",
    "3. All dictionaries missing one of the relevant keys or containing null values have been dropped\n",
    "\n",
    "In other words, the final keys for each dictionary should be `name`, `review_count`, `rating`, `price`, `latitude`, and `longitude`.\n",
    "\n",
    "Complete the function in the cell below:"
   ]
  },
  {
   "cell_type": "code",
   "execution_count": 5,
   "metadata": {
    "ExecuteTime": {
     "end_time": "2021-11-29T23:47:53.340796Z",
     "start_time": "2021-11-29T23:47:53.324975Z"
    }
   },
   "outputs": [
    {
     "data": {
      "text/plain": [
       "[{'name': 'Prince Street Pizza',\n",
       "  'review_count': 4070,\n",
       "  'rating': 4.5,\n",
       "  'price': '$',\n",
       "  'latitude': 40.72308755605564,\n",
       "  'longitude': -73.99453001177575},\n",
       " {'name': 'Rubirosa',\n",
       "  'review_count': 2500,\n",
       "  'rating': 4.5,\n",
       "  'price': '$$',\n",
       "  'latitude': 40.722766,\n",
       "  'longitude': -73.996233},\n",
       " {'name': \"Juliana's\",\n",
       "  'review_count': 2367,\n",
       "  'rating': 4.5,\n",
       "  'price': '$$',\n",
       "  'latitude': 40.70274718768062,\n",
       "  'longitude': -73.99343490196397},\n",
       " {'name': \"Lombardi's Pizza\",\n",
       "  'review_count': 6224,\n",
       "  'rating': 4.0,\n",
       "  'price': '$$',\n",
       "  'latitude': 40.7215934960083,\n",
       "  'longitude': -73.9955956044561},\n",
       " {'name': 'Lucali',\n",
       "  'review_count': 1738,\n",
       "  'rating': 4.0,\n",
       "  'price': '$$',\n",
       "  'latitude': 40.6818,\n",
       "  'longitude': -74.00024}]"
      ]
     },
     "execution_count": 5,
     "metadata": {},
     "output_type": "execute_result"
    }
   ],
   "source": [
    "# Replace None with appropriate code\n",
    "\n",
    "def prepare_data(data_list):\n",
    "    \"\"\"\n",
    "    This function takes in a list of dictionaries and prepares it\n",
    "    for analysis\n",
    "    \"\"\"\n",
    "    \n",
    "    # Make a new list to hold results\n",
    "    results = []\n",
    "    \n",
    "    for business_data in data_list:\n",
    "    \n",
    "        # Make a new dictionary to hold prepared data for this business\n",
    "        prepared_data = {}\n",
    "        \n",
    "        # Extract name, review_count, rating, and price key-value pairs\n",
    "        # from business_data and add to prepared_data\n",
    "        # If a key is not present in business_data, add it to prepared_data\n",
    "        # with an associated value of None\n",
    "        for key in ['name', 'review_count', 'rating', 'price']:\n",
    "            prepared_data[key] = business_data.get(key, None)\n",
    "    \n",
    "        # Parse and add latitude and longitude columns\n",
    "        coordinates = business_data['coordinates']\n",
    "        prepared_data['latitude'] = coordinates['latitude']\n",
    "        prepared_data['longitude'] = coordinates['longitude']\n",
    "        \n",
    "        # Add to list if all values are present\n",
    "        if all(prepared_data.values()):\n",
    "            results.append(prepared_data)\n",
    "    \n",
    "    return results\n",
    "    \n",
    "# Test out function\n",
    "prepared_businesses = prepare_data(businesses)\n",
    "prepared_businesses[:5]"
   ]
  },
  {
   "cell_type": "markdown",
   "metadata": {},
   "source": [
    "Check that your function created the correct keys:"
   ]
  },
  {
   "cell_type": "code",
   "execution_count": 6,
   "metadata": {
    "ExecuteTime": {
     "end_time": "2021-11-29T23:48:13.271165Z",
     "start_time": "2021-11-29T23:48:13.267816Z"
    }
   },
   "outputs": [],
   "source": [
    "# Run this cell without changes\n",
    "\n",
    "assert sorted(list(prepared_businesses[0].keys())) == ['latitude', 'longitude', 'name', 'price', 'rating', 'review_count']"
   ]
  },
  {
   "cell_type": "markdown",
   "metadata": {},
   "source": [
    "The following code will differ depending on your query, but we expect there to be 20 businesses in the original list, and potentially fewer in the prepared list (if any of them were missing data):"
   ]
  },
  {
   "cell_type": "code",
   "execution_count": 7,
   "metadata": {
    "ExecuteTime": {
     "end_time": "2021-11-29T23:48:16.750187Z",
     "start_time": "2021-11-29T23:48:16.746320Z"
    }
   },
   "outputs": [
    {
     "name": "stdout",
     "output_type": "stream",
     "text": [
      "Original: 20\n",
      "Prepared: 19\n"
     ]
    }
   ],
   "source": [
    "# Run this cell without changes\n",
    "print(\"Original:\", len(businesses))\n",
    "print(\"Prepared:\", len(prepared_businesses))"
   ]
  },
  {
   "cell_type": "markdown",
   "metadata": {},
   "source": [
    "Great! We will reuse this function once we have retrieved the full dataset."
   ]
  },
  {
   "cell_type": "markdown",
   "metadata": {},
   "source": [
    "## 2. Add Pagination\n",
    "\n",
    "Now that you are able to extract information from one page of the response, let's figure out how to request as many pages as possible.\n",
    "\n",
    "### Determining the Total\n",
    "\n",
    "Depending on the number of total results for your query, you will either retrieve all of the results, or just the first 1000 (if there are more than 1000 total).\n",
    "\n",
    "We can find the total number of results using the `\"total\"` key:"
   ]
  },
  {
   "cell_type": "code",
   "execution_count": 8,
   "metadata": {
    "ExecuteTime": {
     "end_time": "2021-11-29T23:48:34.509213Z",
     "start_time": "2021-11-29T23:48:34.505016Z"
    }
   },
   "outputs": [
    {
     "data": {
      "text/plain": [
       "240"
      ]
     },
     "execution_count": 8,
     "metadata": {},
     "output_type": "execute_result"
    }
   ],
   "source": [
    "# Run this cell without changes\n",
    "response_json[\"total\"]"
   ]
  },
  {
   "cell_type": "markdown",
   "metadata": {},
   "source": [
    "(This is specific to the implementation of the Yelp API. Some APIs will just tell you that there are more pages, or will tell you the number of pages total, rather than the total number of results. If you're not sure, always check the documentation.)\n",
    "\n",
    "In the cell below, assign the variable `total` to either the value shown above (if it is less than 1000), or 1000."
   ]
  },
  {
   "cell_type": "code",
   "execution_count": 9,
   "metadata": {
    "ExecuteTime": {
     "end_time": "2021-11-29T23:49:09.975684Z",
     "start_time": "2021-11-29T23:49:09.972975Z"
    }
   },
   "outputs": [],
   "source": [
    "# Replace None with appropriate code\n",
    "total = 240"
   ]
  },
  {
   "cell_type": "markdown",
   "metadata": {},
   "source": [
    "### Calculating the Offsets\n",
    "\n",
    "The documentation states in the parameters section:\n",
    "\n",
    "> **Name**: `limit`, **Type:** int, **Description:** Optional. Number of business results to return. By default, it will return 20. Maximum is 50.\n",
    "\n",
    "> **Name**: `offset`, **Type:** int, **Description:** Optional. Offset the list of returned business results by this amount.\n",
    "\n",
    "So, to get the most results with the fewest API calls we want to set a limit of 50 every time. If, say, we wanted to get 210 total results, that would mean:\n",
    "\n",
    "1. Offset of `0` (first 50 records)\n",
    "2. Offset of `50` (second 50 records)\n",
    "3. Offset of `100` (third 50 records)\n",
    "4. Offset of `150` (fourth 50 records)\n",
    "5. Offset of `200` (final 10 records)\n",
    "\n",
    "In the cell below, create a function `get_offsets` that takes in a total and returns a list of offsets for that total. You can assume that there is a limit of 50 every time.\n",
    "\n",
    "*Hint: you can use `range` ([documentation here](https://docs.python.org/3.3/library/stdtypes.html?highlight=range#range)) to do this in one line of code. Just make the returned result is a list.*"
   ]
  },
  {
   "cell_type": "code",
   "execution_count": 10,
   "metadata": {
    "ExecuteTime": {
     "end_time": "2021-11-29T23:53:12.230646Z",
     "start_time": "2021-11-29T23:53:12.227393Z"
    }
   },
   "outputs": [],
   "source": [
    "# Replace None with appropriate code\n",
    "def get_offsets(total):\n",
    "    \"\"\"\n",
    "    Get a list of offsets needed to get all pages\n",
    "    of data up until the total\n",
    "    \"\"\"\n",
    "    return list(range(0, total, 50))"
   ]
  },
  {
   "cell_type": "markdown",
   "metadata": {},
   "source": [
    "Check that your function works below:"
   ]
  },
  {
   "cell_type": "code",
   "execution_count": 11,
   "metadata": {
    "ExecuteTime": {
     "end_time": "2021-11-29T23:53:15.198477Z",
     "start_time": "2021-11-29T23:53:15.193928Z"
    }
   },
   "outputs": [],
   "source": [
    "# Run this cell without changes\n",
    "\n",
    "assert get_offsets(200) == [0, 50, 100, 150]\n",
    "assert get_offsets(210) == [0, 50, 100, 150, 200]"
   ]
  },
  {
   "cell_type": "markdown",
   "metadata": {},
   "source": [
    "### Putting It All Together\n",
    "\n",
    "Recall that the following variable has already been declared for you:"
   ]
  },
  {
   "cell_type": "code",
   "execution_count": 12,
   "metadata": {
    "ExecuteTime": {
     "end_time": "2021-11-29T23:53:22.840456Z",
     "start_time": "2021-11-29T23:53:22.836357Z"
    }
   },
   "outputs": [
    {
     "data": {
      "text/plain": [
       "{'term': 'pizza', 'location': 'New+York+NY'}"
      ]
     },
     "execution_count": 12,
     "metadata": {},
     "output_type": "execute_result"
    }
   ],
   "source": [
    "# Run this cell without changes\n",
    "url_params"
   ]
  },
  {
   "cell_type": "markdown",
   "metadata": {},
   "source": [
    "We'll go ahead and also specify that the limit should be 50 every time:"
   ]
  },
  {
   "cell_type": "code",
   "execution_count": 13,
   "metadata": {
    "ExecuteTime": {
     "end_time": "2021-11-29T23:53:30.636119Z",
     "start_time": "2021-11-29T23:53:30.633150Z"
    }
   },
   "outputs": [],
   "source": [
    "# Run this cell without changes\n",
    "url_params[\"limit\"] = 50"
   ]
  },
  {
   "cell_type": "markdown",
   "metadata": {},
   "source": [
    "In order to modify the offset, you'll need to add it to `url_params` with the key `\"offset\"` and whatever value is needed.\n",
    "\n",
    "In the cell below, write code that:\n",
    "\n",
    "* Creates an empty list for the full prepared dataset\n",
    "* Loops over all of the offsets from `get_offsets` and makes an API call each time with the specified offset\n",
    "* Calls `prepare_data` to get a cleaned version of the result of each API call\n",
    "* Extends the full prepared dataset list with each query's prepared dataset"
   ]
  },
  {
   "cell_type": "code",
   "execution_count": 14,
   "metadata": {
    "ExecuteTime": {
     "end_time": "2021-11-29T23:58:26.477312Z",
     "start_time": "2021-11-29T23:58:20.961527Z"
    }
   },
   "outputs": [
    {
     "data": {
      "text/plain": [
       "200"
      ]
     },
     "execution_count": 14,
     "metadata": {},
     "output_type": "execute_result"
    }
   ],
   "source": [
    "# Replace None with appropriate code\n",
    "\n",
    "# Create an empty list for the full prepared dataset\n",
    "full_dataset = []\n",
    "\n",
    "for offset in get_offsets(total):\n",
    "    # Add or update the \"offset\" key-value pair in url_params\n",
    "    url_params['offset'] = offset\n",
    "    \n",
    "    # Make the query and get the response\n",
    "    response = requests.get(url, headers=headers, params=url_params)\n",
    "    \n",
    "    # Get the response body in JSON format\n",
    "    response_json = response.json()\n",
    "    \n",
    "    # Get the list of businesses from the response_json\n",
    "    businesses = response_json['businesses']\n",
    "    \n",
    "    # Call the prepare_data function to get a list of processed data\n",
    "    prepared_businesses = prepare_data(businesses)\n",
    "    \n",
    "    # Extend full_dataset with this list (don't append, or you'll get\n",
    "    # a list of lists instead of a flat list)\n",
    "    full_dataset.extend(prepared_businesses)\n",
    "\n",
    "# Check the length of the full dataset. It will be up to `total`,\n",
    "# potentially less if there were missing values\n",
    "len(full_dataset)"
   ]
  },
  {
   "cell_type": "markdown",
   "metadata": {},
   "source": [
    "This code may take up to a few minutes to run.\n",
    "\n",
    "If you get an error trying to get the response body in JSON format, try adding `time.sleep(1)` right after the `requests.get` line, so your code will sleep for 1 second between each API call."
   ]
  },
  {
   "cell_type": "markdown",
   "metadata": {},
   "source": [
    "## 3. Perform Exploratory Analysis\n",
    "\n",
    "Take the businesses from the previous question and do an initial exploratory analysis. We have provided some plots for you to interpret:"
   ]
  },
  {
   "cell_type": "code",
   "execution_count": 15,
   "metadata": {
    "ExecuteTime": {
     "end_time": "2021-11-29T23:59:15.222507Z",
     "start_time": "2021-11-29T23:59:14.678300Z"
    }
   },
   "outputs": [
    {
     "data": {
      "image/png": "[encoded data removed]",
      "text/plain": [
       "<Figure size 1152x360 with 3 Axes>"
      ]
     },
     "metadata": {
      "needs_background": "light"
     },
     "output_type": "display_data"
    }
   ],
   "source": [
    "# Run this cell without changes\n",
    "from collections import Counter\n",
    "import matplotlib.pyplot as plt\n",
    "%matplotlib inline\n",
    "\n",
    "fig, (ax1, ax2, ax3) = plt.subplots(ncols=3, figsize=(16, 5))\n",
    "\n",
    "# Plot distribution of number of reviews\n",
    "all_review_counts = [x[\"review_count\"] for x in full_dataset]\n",
    "ax1.hist(all_review_counts)\n",
    "ax1.set_title(\"Review Count Distribution\")\n",
    "ax1.set_xlabel(\"Number of Reviews\")\n",
    "ax1.set_ylabel(\"Number of Businesses\")\n",
    "\n",
    "# Plot rating distribution\n",
    "all_ratings = [x[\"rating\"] for x in full_dataset]\n",
    "rating_counter = Counter(all_ratings)\n",
    "rating_keys = sorted(rating_counter.keys())\n",
    "ax2.bar(rating_keys, [rating_counter[key] for key in rating_keys])\n",
    "ax2.set_title(\"Rating Distribution\")\n",
    "ax2.set_xlabel(\"Rating\")\n",
    "ax2.set_ylabel(\"Number of Businesses\")\n",
    "\n",
    "# Plot price distribution\n",
    "all_prices = [x[\"price\"].replace(\"$\", r\"\\$\") for x in full_dataset]\n",
    "price_counter = Counter(all_prices)\n",
    "price_keys = sorted(price_counter.keys())\n",
    "ax3.bar(price_keys, [price_counter[key] for key in price_keys])\n",
    "ax3.set_title(\"Price Distribution\")\n",
    "ax3.set_xlabel(\"Price Category\")\n",
    "ax3.set_ylabel(\"Number of Businesses\");"
   ]
  },
  {
   "cell_type": "markdown",
   "metadata": {},
   "source": [
    "Describe the distributions displayed above and interpret them in the context of your query. (Your answer may differ from the solution branch depending on your query.)"
   ]
  },
  {
   "cell_type": "code",
   "execution_count": null,
   "metadata": {},
   "outputs": [],
   "source": [
    "# Replace None with appropriate text\n",
    "\"\"\"\n",
    "Review counts are heavily skewed to the left, so most places have between 0 and 1000 reviews.\n",
    "The majority of places have a 4 star review.\n",
    "The price category is fairly cheap, which makes sense for pizza places.\n",
    "\"\"\""
   ]
  },
  {
   "cell_type": "markdown",
   "metadata": {},
   "source": [
    "In the cell below, we also plot the rating distributions by price. In this setup, a price of one dollar sign is \"lower price\" and everything else is \"higher price\"."
   ]
  },
  {
   "cell_type": "code",
   "execution_count": 16,
   "metadata": {
    "ExecuteTime": {
     "end_time": "2021-11-30T00:01:18.435465Z",
     "start_time": "2021-11-30T00:01:18.293120Z"
    }
   },
   "outputs": [
    {
     "data": {
      "image/png": "[encoded data removed]",
      "text/plain": [
       "<Figure size 432x288 with 1 Axes>"
      ]
     },
     "metadata": {
      "needs_background": "light"
     },
     "output_type": "display_data"
    }
   ],
   "source": [
    "# Run this cell without changes\n",
    "\n",
    "higher_price = []\n",
    "lower_price = []\n",
    "for row in full_dataset:\n",
    "    if row[\"price\"] == \"$\":\n",
    "        lower_price.append(row[\"rating\"])\n",
    "    else:\n",
    "        higher_price.append(row[\"rating\"])\n",
    "        \n",
    "fig, ax = plt.subplots()\n",
    "\n",
    "ax.hist([higher_price, lower_price], label=[\"higher price\", \"lower price\"], density=True)\n",
    "\n",
    "ax.legend();"
   ]
  },
  {
   "cell_type": "markdown",
   "metadata": {},
   "source": [
    "Is a higher price associated with a higher rating? (No need for any additional math/statistics, just interpret what you see in the plot.)"
   ]
  },
  {
   "cell_type": "code",
   "execution_count": null,
   "metadata": {},
   "outputs": [],
   "source": [
    "# Replace None with appropriate text\n",
    "\"\"\"\n",
    "No, more lower priced places have 4.5 stars and the number of 5 star reviews is about the same for both categories.\n",
    "\"\"\""
   ]
  },
  {
   "cell_type": "markdown",
   "metadata": {},
   "source": [
    "Finally, let's look at ratings vs. review counts:"
   ]
  },
  {
   "cell_type": "code",
   "execution_count": 17,
   "metadata": {
    "ExecuteTime": {
     "end_time": "2021-11-30T00:02:28.299602Z",
     "start_time": "2021-11-30T00:02:28.173611Z"
    }
   },
   "outputs": [
    {
     "data": {
      "image/png": "[encoded data removed]",
      "text/plain": [
       "<Figure size 1152x360 with 1 Axes>"
      ]
     },
     "metadata": {
      "needs_background": "light"
     },
     "output_type": "display_data"
    }
   ],
   "source": [
    "# Run this cell without changes\n",
    "fig, ax = plt.subplots(figsize=(16,5))\n",
    "\n",
    "ax.scatter(all_review_counts, all_ratings, alpha=0.2)\n",
    "ax.set_xlabel(\"Number of Reviews\")\n",
    "ax.set_ylabel(\"Rating\")\n",
    "# \"zoom in\" to a subset of review counts\n",
    "ax.set_xlim(left=0, right=1000);"
   ]
  },
  {
   "cell_type": "markdown",
   "metadata": {},
   "source": [
    "Is a higher number of reviews associated with a higher rating?"
   ]
  },
  {
   "cell_type": "code",
   "execution_count": null,
   "metadata": {},
   "outputs": [],
   "source": [
    "# Replace None with appropriate text\n",
    "\"\"\"\n",
    "A higher number of reviews does not seem to be associated with a higher rating.  The distribution seems to follow the same curve.\n",
    "\"\"\""
   ]
  },
  {
   "cell_type": "markdown",
   "metadata": {},
   "source": [
    "## 4. Create a Folium Map\n",
    "\n",
    "Make a map using Folium of the businesses you retrieved. Be sure to also add popups to the markers giving some basic information such as name, rating and price.\n",
    "\n",
    "You can center the map around the latitude and longitude of the first item in `full_dataset`."
   ]
  },
  {
   "cell_type": "code",
   "execution_count": 19,
   "metadata": {
    "ExecuteTime": {
     "end_time": "2021-11-30T00:08:13.928724Z",
     "start_time": "2021-11-30T00:08:13.391680Z"
    }
   },
   "outputs": [
    {
     "data": {
      "text/html": [
       "<div style=\"width:100%;\"><div style=\"position:relative;width:100%;height:0;padding-bottom:60%;\"><span style=\"color:#565656\">Make this Notebook Trusted to load map: File -> Trust Notebook</span><iframe src=\"about:blank\" style=\"position:absolute;width:100%;height:100%;left:0;top:0;border:none !important;\" data-html=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 onload=\"this.contentDocument.open();this.contentDocument.write(atob(this.getAttribute('data-html')));this.contentDocument.close();\" allowfullscreen webkitallowfullscreen mozallowfullscreen></iframe></div></div>"
      ],
      "text/plain": [
       "<folium.folium.Map at 0x7fc648411520>"
      ]
     },
     "execution_count": 19,
     "metadata": {},
     "output_type": "execute_result"
    }
   ],
   "source": [
    "# Replace None with appropriate code\n",
    "\n",
    "# Import the library\n",
    "import folium\n",
    "\n",
    "# Set up center latitude and longitude\n",
    "center_lat = full_dataset[0]['latitude']\n",
    "center_long = full_dataset[0]['longitude']\n",
    "\n",
    "# Initialize map with center lat and long\n",
    "yelp_map = folium.Map([center_lat, center_long], zoom_start = 13)\n",
    "\n",
    "# Adjust this limit to see more or fewer businesses\n",
    "limit=50\n",
    "\n",
    "for business in full_dataset[:limit]:\n",
    "    # Extract information about business\n",
    "    lat = business['latitude']\n",
    "    long = business['longitude']\n",
    "    name = business['name']\n",
    "    rating = business['rating']\n",
    "    price = business['price']\n",
    "    details = \"{}\\nPrice: {} Rating:{}\".format(name,price,rating)\n",
    "    \n",
    "    # Create popup with relevant details\n",
    "    popup = folium.Popup(details, parse_html=True)\n",
    "    \n",
    "    # Create marker with relevant lat/long and popup\n",
    "    marker = folium.Marker(location = [lat, long], popup=popup)\n",
    "    \n",
    "    marker.add_to(yelp_map)\n",
    "    \n",
    "yelp_map"
   ]
  },
  {
   "cell_type": "markdown",
   "metadata": {},
   "source": [
    "## Summary\n",
    "\n",
    "Nice work! In this lab, you've made multiple API calls to Yelp in order to paginate through a results set, performing some basic exploratory analysis and then creating a nice interactive map to display the results using Folium! Well done!"
   ]
  }
 ],
 "metadata": {
  "kernelspec": {
   "display_name": "Python 3",
   "language": "python",
   "name": "python3"
  },
  "language_info": {
   "codemirror_mode": {
    "name": "ipython",
    "version": 3
   },
   "file_extension": ".py",
   "mimetype": "text/x-python",
   "name": "python",
   "nbconvert_exporter": "python",
   "pygments_lexer": "ipython3",
   "version": "3.8.5"
  },
  "toc": {
   "base_numbering": 1,
   "nav_menu": {},
   "number_sections": true,
   "sideBar": true,
   "skip_h1_title": false,
   "title_cell": "Table of Contents",
   "title_sidebar": "Contents",
   "toc_cell": false,
   "toc_position": {},
   "toc_section_display": true,
   "toc_window_display": false
  }
 },
 "nbformat": 4,
 "nbformat_minor": 2
}
